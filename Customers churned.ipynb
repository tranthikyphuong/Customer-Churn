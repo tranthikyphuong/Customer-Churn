{
 "cells": [
  {
   "cell_type": "markdown",
   "metadata": {},
   "source": [
    "# Project Customer churn prediction\n",
    "## Tran Thi Ky Phuong - HCMUS "
   ]
  },
  {
   "cell_type": "markdown",
   "metadata": {},
   "source": [
    "**1. Introduction:**\n",
    "\n",
    "*Customer churn prediction is a critical aspect of business management, particularly for industries like telecommunications, internet service providers, pay TV companies, insurance firms, and alarm monitoring services. It involves understanding and addressing customer attrition, which refers to the loss of clients or customers.*\n",
    "\n",
    "**2. Problem Statement:**\n",
    "\n",
    "*For businesses in these sectors, measuring customer attrition is a vital business metric. This is because retaining an existing customer is significantly more cost-effective than acquiring a new one. As a result, these companies often have customer service branches dedicated to re-engaging customers who are considering leaving. This is because the long-term value of recovered customers far outweighs that of newly acquired ones.*\n",
    "*To address customer churn, predictive analytics comes into play, churn prediction models to assess the likelihood of customers leaving. These models prioritize a small list of potential defectors, enabling businesses to concentrate their customer retention efforts on those who are most at risk of churning.*\n",
    "\n",
    "**3.  Key Questions:**\n",
    " - *What is the significance of Churn Rate for stakeholders (Customers, MCI, etc.)?*\n",
    " - *What are the characteristics of each Type of Customer (Churn or Not Churn)?*\n",
    " - *Which ML modeling can be implemented and represent model results? including features input and explaining features important.*\n",
    " - *What actions regarding qualitative and quantitative analytics could be implemented to enhance retention rate?*\n",
    " - *This analysis aims to leverage comprehensive customer data to improve customer engagement and satisfaction for MCI's offerings.*\n"
   ]
  },
  {
   "cell_type": "code",
   "execution_count": 25,
   "metadata": {},
   "outputs": [],
   "source": [
    "import numpy as np\n",
    "import pandas as pd\n",
    "import matplotlib.pyplot as plt\n",
    "import seaborn as sns\n",
    "import plotly.express as px"
   ]
  },
  {
   "cell_type": "markdown",
   "metadata": {},
   "source": [
    "### Data Preparation"
   ]
  },
  {
   "cell_type": "code",
   "execution_count": 26,
   "metadata": {},
   "outputs": [
    {
     "name": "stdout",
     "output_type": "stream",
     "text": [
      "   customer_id  credit_score country  gender  age  tenure    balance  \\\n",
      "0     15634602           619  France  Female   42       2       0.00   \n",
      "1     15647311           608   Spain  Female   41       1   83807.86   \n",
      "2     15619304           502  France  Female   42       8  159660.80   \n",
      "3     15701354           699  France  Female   39       1       0.00   \n",
      "4     15737888           850   Spain  Female   43       2  125510.82   \n",
      "\n",
      "   products_number  credit_card  active_member  estimated_salary  churn  \n",
      "0                1            1              1         101348.88      1  \n",
      "1                1            0              1         112542.58      0  \n",
      "2                3            1              0         113931.57      1  \n",
      "3                2            0              0          93826.63      0  \n",
      "4                1            1              1          79084.10      0  \n"
     ]
    },
    {
     "name": "stderr",
     "output_type": "stream",
     "text": [
      "<>:1: SyntaxWarning: invalid escape sequence '\\T'\n",
      "<>:1: SyntaxWarning: invalid escape sequence '\\T'\n",
      "C:\\Users\\TranPhuong\\AppData\\Local\\Temp\\ipykernel_14320\\1172779440.py:1: SyntaxWarning: invalid escape sequence '\\T'\n",
      "  df = pd.read_csv('D:\\Thuc Hanh\\Data\\customer_churn_data.csv')\n"
     ]
    }
   ],
   "source": [
    "df = pd.read_csv('D:\\Thuc Hanh\\Data\\customer_churn_data.csv')\n",
    "print(df.head())"
   ]
  },
  {
   "cell_type": "markdown",
   "metadata": {},
   "source": [
    "**Data Dictionary**\n",
    "- *customer_id*: This is the customers’ unique id which identifies them bankwide.\n",
    "- *credit_score*: this is the rating of the customers’ credit worthiness, generated based on the information on their credit report.\n",
    "- *country*: This is the country the customer hails from.\n",
    "- *gender*: This is the sex of the customer, grouped into male and female.\n",
    "- *age*: This refers to the customer’s age.\n",
    "- *tenure*: The number of years of relationship this customer has maintained with the bank.\n",
    "- *balance*: The deductible balance on their bank account as at time this data was generated.\n",
    "- *products_number*: This shows the bank account type the customer has.\n",
    "- *credit_card*: This column shows if a customer has a credit card or not, represented as either 1 or 0 respectively.\n",
    "- *active_member*: These numerical values show whether an account is active or not, represented as either 1 or 0 respectively.\n",
    "- *estimated_ salary*: This is the average annual salary received into the account.\n",
    "- *churn*: This field shows if the customer is still with the bank or not, represented by either 0 or 1 respectively"
   ]
  },
  {
   "cell_type": "code",
   "execution_count": 27,
   "metadata": {},
   "outputs": [
    {
     "name": "stdout",
     "output_type": "stream",
     "text": [
      "customer_id           int64\n",
      "credit_score          int64\n",
      "country              object\n",
      "gender               object\n",
      "age                   int64\n",
      "tenure                int64\n",
      "balance             float64\n",
      "products_number       int64\n",
      "credit_card           int64\n",
      "active_member         int64\n",
      "estimated_salary    float64\n",
      "churn                 int64\n",
      "dtype: object\n"
     ]
    }
   ],
   "source": [
    "print(df.dtypes)"
   ]
  },
  {
   "cell_type": "code",
   "execution_count": 28,
   "metadata": {},
   "outputs": [
    {
     "name": "stdout",
     "output_type": "stream",
     "text": [
      "customer_id         0\n",
      "credit_score        0\n",
      "country             0\n",
      "gender              0\n",
      "age                 0\n",
      "tenure              0\n",
      "balance             0\n",
      "products_number     0\n",
      "credit_card         0\n",
      "active_member       0\n",
      "estimated_salary    0\n",
      "churn               0\n",
      "dtype: int64\n"
     ]
    }
   ],
   "source": [
    "print(df.isnull().sum())"
   ]
  },
  {
   "cell_type": "code",
   "execution_count": 29,
   "metadata": {},
   "outputs": [
    {
     "data": {
      "text/html": [
       "<div>\n",
       "<style scoped>\n",
       "    .dataframe tbody tr th:only-of-type {\n",
       "        vertical-align: middle;\n",
       "    }\n",
       "\n",
       "    .dataframe tbody tr th {\n",
       "        vertical-align: top;\n",
       "    }\n",
       "\n",
       "    .dataframe thead th {\n",
       "        text-align: right;\n",
       "    }\n",
       "</style>\n",
       "<table border=\"1\" class=\"dataframe\">\n",
       "  <thead>\n",
       "    <tr style=\"text-align: right;\">\n",
       "      <th></th>\n",
       "      <th>Total</th>\n",
       "      <th>Percent</th>\n",
       "    </tr>\n",
       "  </thead>\n",
       "  <tbody>\n",
       "    <tr>\n",
       "      <th>customer_id</th>\n",
       "      <td>0</td>\n",
       "      <td>0.0</td>\n",
       "    </tr>\n",
       "    <tr>\n",
       "      <th>credit_score</th>\n",
       "      <td>0</td>\n",
       "      <td>0.0</td>\n",
       "    </tr>\n",
       "    <tr>\n",
       "      <th>country</th>\n",
       "      <td>0</td>\n",
       "      <td>0.0</td>\n",
       "    </tr>\n",
       "    <tr>\n",
       "      <th>gender</th>\n",
       "      <td>0</td>\n",
       "      <td>0.0</td>\n",
       "    </tr>\n",
       "    <tr>\n",
       "      <th>age</th>\n",
       "      <td>0</td>\n",
       "      <td>0.0</td>\n",
       "    </tr>\n",
       "    <tr>\n",
       "      <th>tenure</th>\n",
       "      <td>0</td>\n",
       "      <td>0.0</td>\n",
       "    </tr>\n",
       "    <tr>\n",
       "      <th>balance</th>\n",
       "      <td>0</td>\n",
       "      <td>0.0</td>\n",
       "    </tr>\n",
       "    <tr>\n",
       "      <th>products_number</th>\n",
       "      <td>0</td>\n",
       "      <td>0.0</td>\n",
       "    </tr>\n",
       "    <tr>\n",
       "      <th>credit_card</th>\n",
       "      <td>0</td>\n",
       "      <td>0.0</td>\n",
       "    </tr>\n",
       "    <tr>\n",
       "      <th>active_member</th>\n",
       "      <td>0</td>\n",
       "      <td>0.0</td>\n",
       "    </tr>\n",
       "  </tbody>\n",
       "</table>\n",
       "</div>"
      ],
      "text/plain": [
       "                 Total  Percent\n",
       "customer_id          0      0.0\n",
       "credit_score         0      0.0\n",
       "country              0      0.0\n",
       "gender               0      0.0\n",
       "age                  0      0.0\n",
       "tenure               0      0.0\n",
       "balance              0      0.0\n",
       "products_number      0      0.0\n",
       "credit_card          0      0.0\n",
       "active_member        0      0.0"
      ]
     },
     "execution_count": 29,
     "metadata": {},
     "output_type": "execute_result"
    }
   ],
   "source": [
    "#Otpion check data missing Percent: \n",
    "total = df.isnull().sum().sort_values(ascending = False)\n",
    "# Sum / count = percent\n",
    "percent = (df.isnull().sum()/df.isnull().count()*100).sort_values(ascending = False)\n",
    "missing_df_data  = pd.concat([total, percent], axis=1, keys=['Total', 'Percent'])\n",
    "missing_df_data.head(10)"
   ]
  },
  {
   "cell_type": "markdown",
   "metadata": {},
   "source": [
    "*How to handle missing data:*\n",
    "- Delete rows containing missing values:\n",
    "\n",
    "```python\n",
    "df = df.dropna()\n",
    "```\n",
    "\n",
    "- Fill in missing values ​​with mean, median, or mode:\n",
    "\n",
    "```python\n",
    "df['column_name'] = df['column_name'].fillna(df['column_name'].mean())\n",
    "df['column_name'] = df['column_name'].fillna(df['column_name'].median())\n",
    "df['column_name'] = df['column_name'].fillna(df['column_name'].mode()[0])\n",
    "```"
   ]
  },
  {
   "cell_type": "code",
   "execution_count": 30,
   "metadata": {},
   "outputs": [
    {
     "name": "stdout",
     "output_type": "stream",
     "text": [
      "<bound method DataFrame.info of       customer_id  credit_score  country  gender  age  tenure    balance  \\\n",
      "0        15634602           619   France  Female   42       2       0.00   \n",
      "1        15647311           608    Spain  Female   41       1   83807.86   \n",
      "2        15619304           502   France  Female   42       8  159660.80   \n",
      "3        15701354           699   France  Female   39       1       0.00   \n",
      "4        15737888           850    Spain  Female   43       2  125510.82   \n",
      "...           ...           ...      ...     ...  ...     ...        ...   \n",
      "9995     15606229           771   France    Male   39       5       0.00   \n",
      "9996     15569892           516   France    Male   35      10   57369.61   \n",
      "9997     15584532           709   France  Female   36       7       0.00   \n",
      "9998     15682355           772  Germany    Male   42       3   75075.31   \n",
      "9999     15628319           792   France  Female   28       4  130142.79   \n",
      "\n",
      "      products_number  credit_card  active_member  estimated_salary  churn  \n",
      "0                   1            1              1         101348.88      1  \n",
      "1                   1            0              1         112542.58      0  \n",
      "2                   3            1              0         113931.57      1  \n",
      "3                   2            0              0          93826.63      0  \n",
      "4                   1            1              1          79084.10      0  \n",
      "...               ...          ...            ...               ...    ...  \n",
      "9995                2            1              0          96270.64      0  \n",
      "9996                1            1              1         101699.77      0  \n",
      "9997                1            0              1          42085.58      1  \n",
      "9998                2            1              0          92888.52      1  \n",
      "9999                1            1              0          38190.78      0  \n",
      "\n",
      "[10000 rows x 12 columns]>\n"
     ]
    }
   ],
   "source": [
    "print(df.info)"
   ]
  },
  {
   "cell_type": "code",
   "execution_count": 31,
   "metadata": {},
   "outputs": [
    {
     "name": "stdout",
     "output_type": "stream",
     "text": [
      "        customer_id  credit_score           age        tenure        balance  \\\n",
      "count  1.000000e+04  10000.000000  10000.000000  10000.000000   10000.000000   \n",
      "mean   1.569094e+07    650.528800     38.921800      5.012800   76485.889288   \n",
      "std    7.193619e+04     96.653299     10.487806      2.892174   62397.405202   \n",
      "min    1.556570e+07    350.000000     18.000000      0.000000       0.000000   \n",
      "25%    1.562853e+07    584.000000     32.000000      3.000000       0.000000   \n",
      "50%    1.569074e+07    652.000000     37.000000      5.000000   97198.540000   \n",
      "75%    1.575323e+07    718.000000     44.000000      7.000000  127644.240000   \n",
      "max    1.581569e+07    850.000000     92.000000     10.000000  250898.090000   \n",
      "\n",
      "       products_number  credit_card  active_member  estimated_salary  \\\n",
      "count     10000.000000  10000.00000   10000.000000      10000.000000   \n",
      "mean          1.530200      0.70550       0.515100     100090.239881   \n",
      "std           0.581654      0.45584       0.499797      57510.492818   \n",
      "min           1.000000      0.00000       0.000000         11.580000   \n",
      "25%           1.000000      0.00000       0.000000      51002.110000   \n",
      "50%           1.000000      1.00000       1.000000     100193.915000   \n",
      "75%           2.000000      1.00000       1.000000     149388.247500   \n",
      "max           4.000000      1.00000       1.000000     199992.480000   \n",
      "\n",
      "              churn  \n",
      "count  10000.000000  \n",
      "mean       0.203700  \n",
      "std        0.402769  \n",
      "min        0.000000  \n",
      "25%        0.000000  \n",
      "50%        0.000000  \n",
      "75%        0.000000  \n",
      "max        1.000000  \n"
     ]
    }
   ],
   "source": [
    "print(df.describe())"
   ]
  },
  {
   "cell_type": "markdown",
   "metadata": {},
   "source": [
    "### Data Categorization and Grouping"
   ]
  },
  {
   "cell_type": "markdown",
   "metadata": {},
   "source": [
    "1. Data Categorization"
   ]
  },
  {
   "cell_type": "code",
   "execution_count": 62,
   "metadata": {},
   "outputs": [
    {
     "name": "stdout",
     "output_type": "stream",
     "text": [
      "      customer_id  credit_score  country  gender  age  tenure    balance  \\\n",
      "0        15634602           619   France  Female   42       2       0.00   \n",
      "1        15647311           608    Spain  Female   41       1   83807.86   \n",
      "2        15619304           502   France  Female   42       8  159660.80   \n",
      "3        15701354           699   France  Female   39       1       0.00   \n",
      "4        15737888           850    Spain  Female   43       2  125510.82   \n",
      "...           ...           ...      ...     ...  ...     ...        ...   \n",
      "9995     15606229           771   France    Male   39       5       0.00   \n",
      "9996     15569892           516   France    Male   35      10   57369.61   \n",
      "9997     15584532           709   France  Female   36       7       0.00   \n",
      "9998     15682355           772  Germany    Male   42       3   75075.31   \n",
      "9999     15628319           792   France  Female   28       4  130142.79   \n",
      "\n",
      "      products_number  credit_card  active_member  estimated_salary  churn  \\\n",
      "0                   1            1              1         101348.88      1   \n",
      "1                   1            0              1         112542.58      0   \n",
      "2                   3            1              0         113931.57      1   \n",
      "3                   2            0              0          93826.63      0   \n",
      "4                   1            1              1          79084.10      0   \n",
      "...               ...          ...            ...               ...    ...   \n",
      "9995                2            1              0          96270.64      0   \n",
      "9996                1            1              1         101699.77      0   \n",
      "9997                1            0              1          42085.58      1   \n",
      "9998                2            1              0          92888.52      1   \n",
      "9999                1            1              0          38190.78      0   \n",
      "\n",
      "     age_group balance_group  \n",
      "0        41-50           NaN  \n",
      "1        41-50          >800  \n",
      "2        41-50          >800  \n",
      "3        31-40           NaN  \n",
      "4        41-50          >800  \n",
      "...        ...           ...  \n",
      "9995     31-40           NaN  \n",
      "9996     31-40          >800  \n",
      "9997     31-40           NaN  \n",
      "9998     41-50          >800  \n",
      "9999     21-30          >800  \n",
      "\n",
      "[10000 rows x 14 columns]\n"
     ]
    }
   ],
   "source": [
    "# Age group\n",
    "bins_age = [0, 20, 30, 40, 50, 60, 70, 100 ]  \n",
    "label = ['<20', '21-30', '31-40', '41-50','51-60','61-70','>71'] \n",
    "\n",
    "df['age_group'] = pd.cut(df['age'], bins=bins_age, labels=label)\n",
    "\n",
    "# Balance group\n",
    "bins_balance = [0, 1000, 10000,100000,200000,float('inf')]\n",
    "labels = ['0', '1k-10k', '10k-100k', '100k-200k','>200k'] \n",
    "\n",
    "df['balance_group'] = pd.cut(df['balance'], bins=bins_balance, labels=labels)\n",
    "\n",
    "# credit score\n",
    "bins_credit = [0,400 ,500 ,600 ,700 ,800, float('inf')]\n",
    "labelss = ['<400', '400-500', '500-600', '600-700','600-800','>800']  \n",
    "\n",
    "df['balance_group'] = pd.cut(df['balance'], bins=bins_credit, labels=labelss)\n",
    "\n",
    "print(df)\n",
    "\n"
   ]
  },
  {
   "cell_type": "markdown",
   "metadata": {},
   "source": [
    "2. Data Grouping"
   ]
  },
  {
   "cell_type": "code",
   "execution_count": 42,
   "metadata": {},
   "outputs": [
    {
     "name": "stdout",
     "output_type": "stream",
     "text": [
      "country\n",
      "France     38.511767\n",
      "Germany    39.771622\n",
      "Spain      38.890997\n",
      "Name: age, dtype: float64\n"
     ]
    }
   ],
   "source": [
    "# Group by country and average the age\n",
    "grouped = df.groupby('country')['age'].mean()\n",
    "print(grouped)"
   ]
  },
  {
   "cell_type": "code",
   "execution_count": 43,
   "metadata": {},
   "outputs": [
    {
     "name": "stdout",
     "output_type": "stream",
     "text": [
      "country\n",
      "France      62092.636516\n",
      "Germany    119730.116134\n",
      "Spain       61818.147763\n",
      "Name: balance, dtype: float64\n"
     ]
    }
   ],
   "source": [
    "# Group by country and average the balance\n",
    "grouped = df.groupby('country')['balance'].mean()\n",
    "print(grouped)"
   ]
  },
  {
   "cell_type": "code",
   "execution_count": 44,
   "metadata": {},
   "outputs": [
    {
     "name": "stdout",
     "output_type": "stream",
     "text": [
      "country\n",
      "France     649.668329\n",
      "Germany    651.453567\n",
      "Spain      651.333872\n",
      "Name: credit_score, dtype: float64\n"
     ]
    }
   ],
   "source": [
    "#Group by country and average the credit_score\n",
    "grouped = df.groupby('country')['credit_score'].mean()\n",
    "print(grouped)"
   ]
  },
  {
   "cell_type": "code",
   "execution_count": 45,
   "metadata": {},
   "outputs": [
    {
     "name": "stdout",
     "output_type": "stream",
     "text": [
      "               age               balance                credit_score  \\\n",
      "              mean min max           sum           mean          sum   \n",
      "country                                                                \n",
      "France   38.511767  18  92  3.113325e+08   62092.636516      3257437   \n",
      "Germany  39.771622  18  84  3.004029e+08  119730.116134      1634497   \n",
      "Spain    38.890997  18  88  1.531236e+08   61818.147763      1613354   \n",
      "\n",
      "                     \n",
      "               mean  \n",
      "country              \n",
      "France   649.668329  \n",
      "Germany  651.453567  \n",
      "Spain    651.333872  \n"
     ]
    }
   ],
   "source": [
    "# total \n",
    "stats = df.groupby('country').agg({\n",
    "    'age': ['mean', 'min', 'max'],\n",
    "    'balance': ['sum', 'mean'],\n",
    "    'credit_score':['sum','mean']})\n",
    "\n",
    "print(stats)"
   ]
  },
  {
   "cell_type": "markdown",
   "metadata": {},
   "source": [
    "### Visualisation "
   ]
  },
  {
   "cell_type": "markdown",
   "metadata": {},
   "source": [
    "1. What is the significance of Churn Rate for stakeholders (Customers, MCI, etc.)\n",
    "- Customers Churn Rate by Age\n",
    "- Customers Churn Rate by Credit Score\n",
    "- Customers Churn Rate by Acct Balance"
   ]
  },
  {
   "cell_type": "code",
   "execution_count": 114,
   "metadata": {},
   "outputs": [
    {
     "name": "stdout",
     "output_type": "stream",
     "text": [
      "age_group\n",
      "31-40    4451\n",
      "41-50    2320\n",
      "21-30    1879\n",
      "51-60     797\n",
      "61-70     331\n",
      ">71       133\n",
      "<20        89\n",
      "Name: count, dtype: int64\n"
     ]
    },
    {
     "name": "stderr",
     "output_type": "stream",
     "text": [
      "C:\\Users\\TranPhuong\\AppData\\Local\\Temp\\ipykernel_14320\\2072405280.py:3: FutureWarning: The default of observed=False is deprecated and will be changed to True in a future version of pandas. Pass observed=False to retain current behavior or observed=True to adopt the future default and silence this warning.\n",
      "  age_group_stats = df.groupby('age_group').agg(\n"
     ]
    },
    {
     "data": {
      "image/png": "[encoded data removed]",
      "text/plain": [
       "<Figure size 640x480 with 1 Axes>"
      ]
     },
     "metadata": {},
     "output_type": "display_data"
    }
   ],
   "source": [
    "# Customers Churn Rate by Age \n",
    "\n",
    "age_group_stats = df.groupby('age_group').agg(\n",
    "    churn_count=('churn', 'sum'),\n",
    "    total_count=('churn', 'size')\n",
    ")\n",
    "\n",
    "# Tính tỷ lệ churn theo nhóm tuổi\n",
    "age_group_stats['churn_rate'] = age_group_stats['churn_count'] / age_group_stats['total_count'] * 100\n",
    "age_group= df['age_group'].value_counts()\n",
    "print(age_group)\n",
    "#\n",
    "\n",
    "age_group_stats['churn_rate'].plot(kind='line', color='black')\n",
    "age_group.plot(kind='bar', color='pink')\n",
    "\n",
    "plt.title('Churn Rate by Age Group')\n",
    "plt.xlabel('Age Group')\n",
    "plt.ylabel('Churn Rate (%)')\n",
    "plt.xticks(rotation=45)\n",
    "plt.show()\n"
   ]
  },
  {
   "cell_type": "code",
   "execution_count": null,
   "metadata": {},
   "outputs": [],
   "source": [
    "# Customers Churn Rate by Age \n",
    "\n",
    "age_group_stats = df.groupby('age_group').agg(\n",
    "    churn_count=('churn', 'sum'),\n",
    "    total_count=('churn', 'size')\n",
    ")\n",
    "\n",
    "# Tính tỷ lệ churn theo nhóm tuổi\n",
    "age_group_stats['churn_rate'] = age_group_stats['churn_count'] / age_group_stats['total_count'] * 100\n",
    "age_group= df['age_group'].value_counts()\n",
    "print(age_group)\n",
    "#\n",
    "\n",
    "age_group_stats['churn_rate'].plot(kind='line', color='black')\n",
    "age_group.plot(kind='bar', color='pink')\n",
    "\n",
    "plt.title('Churn Rate by Age Group')\n",
    "plt.xlabel('Age Group')\n",
    "plt.ylabel('Churn Rate (%)')\n",
    "plt.xticks(rotation=45)\n",
    "plt.show()"
   ]
  },
  {
   "cell_type": "code",
   "execution_count": null,
   "metadata": {},
   "outputs": [],
   "source": []
  }
 ],
 "metadata": {
  "kernelspec": {
   "display_name": "Python 3",
   "language": "python",
   "name": "python3"
  },
  "language_info": {
   "codemirror_mode": {
    "name": "ipython",
    "version": 3
   },
   "file_extension": ".py",
   "mimetype": "text/x-python",
   "name": "python",
   "nbconvert_exporter": "python",
   "pygments_lexer": "ipython3",
   "version": "3.12.5"
  }
 },
 "nbformat": 4,
 "nbformat_minor": 2
}
